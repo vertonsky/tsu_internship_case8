{
 "cells": [
  {
   "cell_type": "code",
   "execution_count": 2,
   "metadata": {},
   "outputs": [],
   "source": [
    "import pandas as pd\n",
    "from tabulate import tabulate"
   ]
  },
  {
   "cell_type": "code",
   "execution_count": 3,
   "metadata": {},
   "outputs": [],
   "source": [
    "data = pd.read_csv('./data/batches/1.0_uni_data_w_soft.csv')"
   ]
  },
  {
   "cell_type": "code",
   "execution_count": 4,
   "metadata": {},
   "outputs": [
    {
     "name": "stdout",
     "output_type": "stream",
     "text": [
      "\n"
     ]
    }
   ],
   "source": [
    "print(tabulate(data.loc[data['PathToSoft'] == '[]']))"
   ]
  },
  {
   "cell_type": "code",
   "execution_count": 5,
   "metadata": {},
   "outputs": [
    {
     "data": {
      "text/plain": [
       "'https://raa.ru/sveden/files/PM.02_Programma_UP.02.01(1).pdf'"
      ]
     },
     "execution_count": 5,
     "metadata": {},
     "output_type": "execute_result"
    }
   ],
   "source": [
    "data['PathToSoft'].iloc[0]"
   ]
  },
  {
   "cell_type": "code",
   "execution_count": 23,
   "metadata": {},
   "outputs": [],
   "source": [
    "data['PathToSoft'] = data['PathToSoft'].astype(\"object\")"
   ]
  },
  {
   "cell_type": "code",
   "execution_count": 27,
   "metadata": {},
   "outputs": [
    {
     "data": {
      "text/plain": [
       "\"[{'title': 'PDF ПРОГРАММА ПРОИЗВОДСТВЕННОЙ ПРАКТИКИ (ПО ПРОФИЛЮ СПЕЦИАЛЬНОСТИ) ПП.01.01 ...', 'href': 'https://raa.ru/sveden/files/PM.01_Programma_PP.01.01(2).pdf', 'body': 'Перечень программного обеспечения, профессиональных баз данных, информационных справочных систем ресурсов'}, {'title': 'PDF МЕТОДИЧЕСКИЕ УКАЗАНИЯ ПО ОРГАНИЗАЦИИ ЛАБОРАТОРНЫХ РАБОТ ПО УЧЕБНОМУ ...', 'href': 'https://raa.ru/sveden/files/Informatika_UPPO_LR.pdf', 'body': 'Программное обеспечение (ПО) - это 2. Утилитарные программы предназначены для 3. ... Перечень программ Microsoft Office 1. 2. 3. и т.д. Перечень стандартных программ 1. 2.'}, {'title': 'PDF ПРОГРАММА УЧЕБНОЙ ПРАКТИКИ (УП.02.01 УЧЕБНАЯ ПРАКТИКА) ПМ.02 ...', 'href': 'https://raa.ru/sveden/files/PM.02_Programma_UP.02.01(1).pdf', 'body': 'Перечень программного обеспечения, профессиональных баз данных, информационных справочных систем ресурсов'}, {'title': 'PDF РАБОЧАЯ ПРОГРАММА ДИСЦИПЛИНЫ ОП.14. ИНФОРМАЦИОННЫЕ ТЕХНОЛОГИИ В ...', 'href': 'https://raa.ru/sveden/files/OP.14_Inf._texnologii_v_prof._deyatelynosti_RP_25.08.2020_Protokol_1_ochnaya_9_kl.pdf', 'body': '3.3. Перечень программного обеспечения, профессиональных баз данных, информационных справочных систем ресурсов информационно-'}, {'title': 'PDF РАБОЧАЯ ПРОГРАММА ДИСЦИПЛИНЫ ОП.15. БЕЗОПАСНОСТЬ ЖИЗНЕДЕЯТЕЛЬНОСТИ', 'href': 'https://raa.ru/sveden/files/OP.15_BGHD_RP_25.08.2020_Protokol_1_ochnaya_9_kl.pdf', 'body': '40.02.01 Право и организация социального обеспечения квалификация ... Перечень нормативных правовых документов, ... 16 3.3. Перечень программного обеспечения, ...'}]\""
      ]
     },
     "execution_count": 27,
     "metadata": {},
     "output_type": "execute_result"
    }
   ],
   "source": [
    "data['PathToSoft'].iloc[0]"
   ]
  },
  {
   "cell_type": "code",
   "execution_count": null,
   "metadata": {},
   "outputs": [],
   "source": []
  }
 ],
 "metadata": {
  "kernelspec": {
   "display_name": "Python 3",
   "language": "python",
   "name": "python3"
  },
  "language_info": {
   "codemirror_mode": {
    "name": "ipython",
    "version": 3
   },
   "file_extension": ".py",
   "mimetype": "text/x-python",
   "name": "python",
   "nbconvert_exporter": "python",
   "pygments_lexer": "ipython3",
   "version": "3.12.3"
  }
 },
 "nbformat": 4,
 "nbformat_minor": 2
}
