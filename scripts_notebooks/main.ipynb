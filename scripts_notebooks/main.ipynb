{
 "cells": [
  {
   "cell_type": "code",
   "execution_count": 2,
   "metadata": {},
   "outputs": [
    {
     "name": "stderr",
     "output_type": "stream",
     "text": [
      "C:\\Users\\Dmitry\\AppData\\Local\\Temp\\ipykernel_17148\\4080736814.py:1: DeprecationWarning: \n",
      "Pyarrow will become a required dependency of pandas in the next major release of pandas (pandas 3.0),\n",
      "(to allow more performant data types, such as the Arrow string type, and better interoperability with other libraries)\n",
      "but was not found to be installed on your system.\n",
      "If this would cause problems for you,\n",
      "please provide us feedback at https://github.com/pandas-dev/pandas/issues/54466\n",
      "        \n",
      "  import pandas as pd\n"
     ]
    }
   ],
   "source": [
    "import pandas as pd"
   ]
  },
  {
   "cell_type": "code",
   "execution_count": 7,
   "metadata": {},
   "outputs": [],
   "source": [
    "data = pd.read_csv(r'C:\\Users\\Dmitry\\Documents\\tsu\\tsu_internship_case8\\data\\uni_data_status_joined_distinct_prepared.csv')"
   ]
  },
  {
   "cell_type": "code",
   "execution_count": 8,
   "metadata": {},
   "outputs": [
    {
     "data": {
      "text/html": [
       "<div>\n",
       "<style scoped>\n",
       "    .dataframe tbody tr th:only-of-type {\n",
       "        vertical-align: middle;\n",
       "    }\n",
       "\n",
       "    .dataframe tbody tr th {\n",
       "        vertical-align: top;\n",
       "    }\n",
       "\n",
       "    .dataframe thead th {\n",
       "        text-align: right;\n",
       "    }\n",
       "</style>\n",
       "<table border=\"1\" class=\"dataframe\">\n",
       "  <thead>\n",
       "    <tr style=\"text-align: right;\">\n",
       "      <th></th>\n",
       "      <th>EduOrgFullName</th>\n",
       "      <th>ShortName</th>\n",
       "      <th>RegionName</th>\n",
       "      <th>FullName</th>\n",
       "      <th>WebSite</th>\n",
       "    </tr>\n",
       "  </thead>\n",
       "  <tbody>\n",
       "    <tr>\n",
       "      <th>0</th>\n",
       "      <td>АВТОНОМНАЯ НЕКОММЕРЧЕСКАЯ ОРГАНИЗАЦИЯ ВЫСШЕГО ...</td>\n",
       "      <td>РУАН ИМЕНИ Г.Б. МИРЗОЕВА</td>\n",
       "      <td>г. Москва</td>\n",
       "      <td>АВТОНОМНАЯ НЕКОММЕРЧЕСКАЯ ОРГАНИЗАЦИЯ ВЫСШЕГО ...</td>\n",
       "      <td>NaN</td>\n",
       "    </tr>\n",
       "    <tr>\n",
       "      <th>1</th>\n",
       "      <td>АВТОНОМНАЯ НЕКОММЕРЧЕСКАЯ ОРГАНИЗАЦИЯ ВЫСШЕГО ...</td>\n",
       "      <td>АНО ВО «НАЦИОНАЛЬНЫЙ ИНСТИТУТ ДИЗАЙНА»</td>\n",
       "      <td>г. Москва</td>\n",
       "      <td>АВТОНОМНАЯ НЕКОММЕРЧЕСКАЯ ОРГАНИЗАЦИЯ ВЫСШЕГО ...</td>\n",
       "      <td>NaN</td>\n",
       "    </tr>\n",
       "    <tr>\n",
       "      <th>2</th>\n",
       "      <td>Автономная некоммерческая образовательная орга...</td>\n",
       "      <td>АНОО ВО «Воронежский экономико-правовой инстит...</td>\n",
       "      <td>Воронежская область</td>\n",
       "      <td>Автономная некоммерческая образовательная орга...</td>\n",
       "      <td>https://vepi.ru/</td>\n",
       "    </tr>\n",
       "    <tr>\n",
       "      <th>3</th>\n",
       "      <td>Автономная некоммерческая образовательная орга...</td>\n",
       "      <td>АНООВО «ЕУСПб»</td>\n",
       "      <td>г. Санкт-Петербург</td>\n",
       "      <td>Автономная некоммерческая образовательная орга...</td>\n",
       "      <td>eusp.org</td>\n",
       "    </tr>\n",
       "    <tr>\n",
       "      <th>4</th>\n",
       "      <td>Автономная некоммерческая образовательная орга...</td>\n",
       "      <td>АНООВО «КИУ»</td>\n",
       "      <td>Калининградская область</td>\n",
       "      <td>Автономная некоммерческая образовательная орга...</td>\n",
       "      <td>www.kvshu39.ru</td>\n",
       "    </tr>\n",
       "  </tbody>\n",
       "</table>\n",
       "</div>"
      ],
      "text/plain": [
       "                                      EduOrgFullName  \\\n",
       "0  АВТОНОМНАЯ НЕКОММЕРЧЕСКАЯ ОРГАНИЗАЦИЯ ВЫСШЕГО ...   \n",
       "1  АВТОНОМНАЯ НЕКОММЕРЧЕСКАЯ ОРГАНИЗАЦИЯ ВЫСШЕГО ...   \n",
       "2  Автономная некоммерческая образовательная орга...   \n",
       "3  Автономная некоммерческая образовательная орга...   \n",
       "4  Автономная некоммерческая образовательная орга...   \n",
       "\n",
       "                                           ShortName               RegionName  \\\n",
       "0                           РУАН ИМЕНИ Г.Б. МИРЗОЕВА                г. Москва   \n",
       "1             АНО ВО «НАЦИОНАЛЬНЫЙ ИНСТИТУТ ДИЗАЙНА»                г. Москва   \n",
       "2  АНОО ВО «Воронежский экономико-правовой инстит...      Воронежская область   \n",
       "3                                     АНООВО «ЕУСПб»       г. Санкт-Петербург   \n",
       "4                                       АНООВО «КИУ»  Калининградская область   \n",
       "\n",
       "                                            FullName           WebSite  \n",
       "0  АВТОНОМНАЯ НЕКОММЕРЧЕСКАЯ ОРГАНИЗАЦИЯ ВЫСШЕГО ...               NaN  \n",
       "1  АВТОНОМНАЯ НЕКОММЕРЧЕСКАЯ ОРГАНИЗАЦИЯ ВЫСШЕГО ...               NaN  \n",
       "2  Автономная некоммерческая образовательная орга...  https://vepi.ru/  \n",
       "3  Автономная некоммерческая образовательная орга...          eusp.org  \n",
       "4  Автономная некоммерческая образовательная орга...    www.kvshu39.ru  "
      ]
     },
     "execution_count": 8,
     "metadata": {},
     "output_type": "execute_result"
    }
   ],
   "source": [
    "data.head()"
   ]
  },
  {
   "cell_type": "code",
   "execution_count": null,
   "metadata": {},
   "outputs": [],
   "source": []
  }
 ],
 "metadata": {
  "kernelspec": {
   "display_name": "Python 3",
   "language": "python",
   "name": "python3"
  },
  "language_info": {
   "codemirror_mode": {
    "name": "ipython",
    "version": 3
   },
   "file_extension": ".py",
   "mimetype": "text/x-python",
   "name": "python",
   "nbconvert_exporter": "python",
   "pygments_lexer": "ipython3",
   "version": "3.12.2"
  }
 },
 "nbformat": 4,
 "nbformat_minor": 2
}
